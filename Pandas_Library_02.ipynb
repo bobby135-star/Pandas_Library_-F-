{
  "metadata": {
    "language_info": {
      "codemirror_mode": {
        "name": "python",
        "version": 3
      },
      "file_extension": ".py",
      "mimetype": "text/x-python",
      "name": "python",
      "nbconvert_exporter": "python",
      "pygments_lexer": "ipython3",
      "version": "3.8"
    },
    "kernelspec": {
      "name": "python",
      "display_name": "Python (Pyodide)",
      "language": "python"
    }
  },
  "nbformat_minor": 4,
  "nbformat": 4,
  "cells": [
    {
      "cell_type": "markdown",
      "source": "# <font color=\"purple\"><h3 align=\"center\">Subscribe_Code Basic</h3></font>",
      "metadata": {}
    },
    {
      "cell_type": "markdown",
      "source": "# Python Pandas Tutorial for Beginners",
      "metadata": {}
    },
    {
      "cell_type": "markdown",
      "source": "## What is Pandas?\n\n- Pandas is a python package / library \n- Pandas is a library for data manipulation and analysis\n- Two main data structures: the Series and DataFrame",
      "metadata": {}
    },
    {
      "cell_type": "code",
      "source": "# # Visual representation of Pandas\n\n# import os\n# from IPython.display import Image\n# PATH = \"F:\\\\Github\\\\Python tutorials\\\\Introduction to Pandas\\\\\"\n# Image(filename = PATH + \"pandas.png\", width=300, height=300)",
      "metadata": {
        "trusted": true
      },
      "execution_count": 3,
      "outputs": []
    },
    {
      "cell_type": "markdown",
      "source": "## Tutorial Overview\n\n### Video 1\n1. What is a Panda's Series\n2. What is a Dataframe\n3. Creating DataFrames\n4. Loading a CSV into a DataFrame\n5. Basic methods for investigating/viewing a DataFrame\n\n### Video 2\n6. Column Filtering\n7. Row Filtering\n8. Filtering / Slicing\n9. Sorting the DF\n10. Summarising / Aggregating Data\n11. Creating New Calculated Fields",
      "metadata": {}
    },
    {
      "cell_type": "markdown",
      "source": "## Importing / Installing packages",
      "metadata": {}
    },
    {
      "cell_type": "code",
      "source": "# Packages / libraries\nimport os #provides functions for interacting with the operating system\nimport numpy as np \nimport pandas as pd\nfrom matplotlib import pyplot as plt\nimport piplite\nawait piplite.install('seaborn')\nimport seaborn as sns\n\n# To install Pandas type \"pip install pandas\" to the anaconda terminal",
      "metadata": {
        "trusted": true
      },
      "execution_count": 1,
      "outputs": []
    },
    {
      "cell_type": "markdown",
      "source": "## 1. What is Panda's Series\n\nSeries is a one-dimensional object (similar to a vector)",
      "metadata": {}
    },
    {
      "cell_type": "code",
      "source": "# Creating a Series by passing in a list without the Index\ns = pd.Series(['28', '1.79', 'Yiannis'])\ns",
      "metadata": {
        "trusted": true
      },
      "execution_count": 2,
      "outputs": [
        {
          "execution_count": 2,
          "output_type": "execute_result",
          "data": {
            "text/plain": "0         28\n1       1.79\n2    Yiannis\ndtype: object"
          },
          "metadata": {}
        }
      ]
    },
    {
      "cell_type": "code",
      "source": "# Creating a Series by passing in a list & the Indexs\ns = pd.Series(['28', '1.79 cm', 'Yiannis'], index=['Age', 'Height', \"Name\"])\ns",
      "metadata": {
        "trusted": true
      },
      "execution_count": 3,
      "outputs": [
        {
          "execution_count": 3,
          "output_type": "execute_result",
          "data": {
            "text/plain": "Age            28\nHeight    1.79 cm\nName      Yiannis\ndtype: object"
          },
          "metadata": {}
        }
      ]
    },
    {
      "cell_type": "code",
      "source": "# Indexing / filtering the Series\ns['Name']",
      "metadata": {
        "trusted": true
      },
      "execution_count": 4,
      "outputs": [
        {
          "execution_count": 4,
          "output_type": "execute_result",
          "data": {
            "text/plain": "'Yiannis'"
          },
          "metadata": {}
        }
      ]
    },
    {
      "cell_type": "markdown",
      "source": "## 2. What is a Dataframe",
      "metadata": {}
    },
    {
      "cell_type": "markdown",
      "source": "DataFrame is like an Excel table / PivotTable. It is a tabular data structure comprised of rows and columns",
      "metadata": {}
    },
    {
      "cell_type": "markdown",
      "source": "## 3. Creating a DataFrame",
      "metadata": {}
    },
    {
      "cell_type": "code",
      "source": "# Manually\n\ndf = pd.DataFrame(columns = [\"Name\", 'Gender','Age','Height'])\ndf",
      "metadata": {
        "trusted": true
      },
      "execution_count": 7,
      "outputs": [
        {
          "execution_count": 7,
          "output_type": "execute_result",
          "data": {
            "text/plain": "Empty DataFrame\nColumns: [Name, Gender, Age, Height]\nIndex: []",
            "text/html": "<div>\n<style scoped>\n    .dataframe tbody tr th:only-of-type {\n        vertical-align: middle;\n    }\n\n    .dataframe tbody tr th {\n        vertical-align: top;\n    }\n\n    .dataframe thead th {\n        text-align: right;\n    }\n</style>\n<table border=\"1\" class=\"dataframe\">\n  <thead>\n    <tr style=\"text-align: right;\">\n      <th></th>\n      <th>Name</th>\n      <th>Gender</th>\n      <th>Age</th>\n      <th>Height</th>\n    </tr>\n  </thead>\n  <tbody>\n  </tbody>\n</table>\n</div>"
          },
          "metadata": {}
        }
      ]
    },
    {
      "cell_type": "code",
      "source": "# Passing Values in the DataFrame\ndf.loc[0] = [\"Joe\", \"Male\", 23, 1.70]\ndf.loc[1] = [\"Tom\", \"Male\", '50', 1.80]\ndf.loc[2] = [\"Tine\", \"Female\", 93, 1.79]\ndf",
      "metadata": {
        "trusted": true
      },
      "execution_count": 8,
      "outputs": [
        {
          "execution_count": 8,
          "output_type": "execute_result",
          "data": {
            "text/plain": "   Name  Gender Age  Height\n0   Joe    Male  23    1.70\n1   Tom    Male  50    1.80\n2  Tine  Female  93    1.79",
            "text/html": "<div>\n<style scoped>\n    .dataframe tbody tr th:only-of-type {\n        vertical-align: middle;\n    }\n\n    .dataframe tbody tr th {\n        vertical-align: top;\n    }\n\n    .dataframe thead th {\n        text-align: right;\n    }\n</style>\n<table border=\"1\" class=\"dataframe\">\n  <thead>\n    <tr style=\"text-align: right;\">\n      <th></th>\n      <th>Name</th>\n      <th>Gender</th>\n      <th>Age</th>\n      <th>Height</th>\n    </tr>\n  </thead>\n  <tbody>\n    <tr>\n      <th>0</th>\n      <td>Joe</td>\n      <td>Male</td>\n      <td>23</td>\n      <td>1.70</td>\n    </tr>\n    <tr>\n      <th>1</th>\n      <td>Tom</td>\n      <td>Male</td>\n      <td>50</td>\n      <td>1.80</td>\n    </tr>\n    <tr>\n      <th>2</th>\n      <td>Tine</td>\n      <td>Female</td>\n      <td>93</td>\n      <td>1.79</td>\n    </tr>\n  </tbody>\n</table>\n</div>"
          },
          "metadata": {}
        }
      ]
    },
    {
      "cell_type": "code",
      "source": "# Creating DataFrame from a List\na_list = [[\"Joe\", \"Male\", 23, 1.70], [\"Tom\", \"Male\", '50', 1.80]]\na_list\n\ndf = pd.DataFrame(a_list, columns = [\"Name\", 'Gender','Age','Height'])\ndf",
      "metadata": {
        "trusted": true
      },
      "execution_count": 9,
      "outputs": [
        {
          "execution_count": 9,
          "output_type": "execute_result",
          "data": {
            "text/plain": "  Name Gender Age  Height\n0  Joe   Male  23     1.7\n1  Tom   Male  50     1.8",
            "text/html": "<div>\n<style scoped>\n    .dataframe tbody tr th:only-of-type {\n        vertical-align: middle;\n    }\n\n    .dataframe tbody tr th {\n        vertical-align: top;\n    }\n\n    .dataframe thead th {\n        text-align: right;\n    }\n</style>\n<table border=\"1\" class=\"dataframe\">\n  <thead>\n    <tr style=\"text-align: right;\">\n      <th></th>\n      <th>Name</th>\n      <th>Gender</th>\n      <th>Age</th>\n      <th>Height</th>\n    </tr>\n  </thead>\n  <tbody>\n    <tr>\n      <th>0</th>\n      <td>Joe</td>\n      <td>Male</td>\n      <td>23</td>\n      <td>1.7</td>\n    </tr>\n    <tr>\n      <th>1</th>\n      <td>Tom</td>\n      <td>Male</td>\n      <td>50</td>\n      <td>1.8</td>\n    </tr>\n  </tbody>\n</table>\n</div>"
          },
          "metadata": {}
        }
      ]
    },
    {
      "cell_type": "code",
      "source": "# Creating DataFrame from an Array\na = np.arange(15).reshape(5,3)\nprint(a)\n\ndf = pd.DataFrame(a, columns = [\"A\", 'B','C'])\ndf",
      "metadata": {
        "trusted": true
      },
      "execution_count": 10,
      "outputs": [
        {
          "name": "stdout",
          "text": "[[ 0  1  2]\n [ 3  4  5]\n [ 6  7  8]\n [ 9 10 11]\n [12 13 14]]\n",
          "output_type": "stream"
        },
        {
          "execution_count": 10,
          "output_type": "execute_result",
          "data": {
            "text/plain": "    A   B   C\n0   0   1   2\n1   3   4   5\n2   6   7   8\n3   9  10  11\n4  12  13  14",
            "text/html": "<div>\n<style scoped>\n    .dataframe tbody tr th:only-of-type {\n        vertical-align: middle;\n    }\n\n    .dataframe tbody tr th {\n        vertical-align: top;\n    }\n\n    .dataframe thead th {\n        text-align: right;\n    }\n</style>\n<table border=\"1\" class=\"dataframe\">\n  <thead>\n    <tr style=\"text-align: right;\">\n      <th></th>\n      <th>A</th>\n      <th>B</th>\n      <th>C</th>\n    </tr>\n  </thead>\n  <tbody>\n    <tr>\n      <th>0</th>\n      <td>0</td>\n      <td>1</td>\n      <td>2</td>\n    </tr>\n    <tr>\n      <th>1</th>\n      <td>3</td>\n      <td>4</td>\n      <td>5</td>\n    </tr>\n    <tr>\n      <th>2</th>\n      <td>6</td>\n      <td>7</td>\n      <td>8</td>\n    </tr>\n    <tr>\n      <th>3</th>\n      <td>9</td>\n      <td>10</td>\n      <td>11</td>\n    </tr>\n    <tr>\n      <th>4</th>\n      <td>12</td>\n      <td>13</td>\n      <td>14</td>\n    </tr>\n  </tbody>\n</table>\n</div>"
          },
          "metadata": {}
        }
      ]
    },
    {
      "cell_type": "code",
      "source": "# Transpose a DataFrame\n\n#method 1\ndf.T\n\n# method 2\nnp.transpose(df)",
      "metadata": {
        "trusted": true
      },
      "execution_count": 11,
      "outputs": [
        {
          "execution_count": 11,
          "output_type": "execute_result",
          "data": {
            "text/plain": "   0  1  2   3   4\nA  0  3  6   9  12\nB  1  4  7  10  13\nC  2  5  8  11  14",
            "text/html": "<div>\n<style scoped>\n    .dataframe tbody tr th:only-of-type {\n        vertical-align: middle;\n    }\n\n    .dataframe tbody tr th {\n        vertical-align: top;\n    }\n\n    .dataframe thead th {\n        text-align: right;\n    }\n</style>\n<table border=\"1\" class=\"dataframe\">\n  <thead>\n    <tr style=\"text-align: right;\">\n      <th></th>\n      <th>0</th>\n      <th>1</th>\n      <th>2</th>\n      <th>3</th>\n      <th>4</th>\n    </tr>\n  </thead>\n  <tbody>\n    <tr>\n      <th>A</th>\n      <td>0</td>\n      <td>3</td>\n      <td>6</td>\n      <td>9</td>\n      <td>12</td>\n    </tr>\n    <tr>\n      <th>B</th>\n      <td>1</td>\n      <td>4</td>\n      <td>7</td>\n      <td>10</td>\n      <td>13</td>\n    </tr>\n    <tr>\n      <th>C</th>\n      <td>2</td>\n      <td>5</td>\n      <td>8</td>\n      <td>11</td>\n      <td>14</td>\n    </tr>\n  </tbody>\n</table>\n</div>"
          },
          "metadata": {}
        }
      ]
    },
    {
      "cell_type": "markdown",
      "source": "## 4. Loading a CSV file into a DataFrame",
      "metadata": {}
    },
    {
      "cell_type": "code",
      "source": "# This is to find out your current directory\ncwd = os.getcwd()\ncwd",
      "metadata": {
        "trusted": true
      },
      "execution_count": 13,
      "outputs": [
        {
          "execution_count": 13,
          "output_type": "execute_result",
          "data": {
            "text/plain": "'/drive/notebooks/Pandas Library'"
          },
          "metadata": {}
        }
      ]
    },
    {
      "cell_type": "code",
      "source": "# Loading the data\nimport pandas as pd\nimport numpy as np\nraw_data=pd.read_csv('Marketing Raw Data.csv')\n# runs all the data\nraw_data\n#runs the first 5 rows\nraw_data.head(1)\n#runs the number of rows you select\nraw_data.head(5)",
      "metadata": {
        "trusted": true
      },
      "execution_count": 14,
      "outputs": [
        {
          "execution_count": 14,
          "output_type": "execute_result",
          "data": {
            "text/plain": "         Date   Day_Name  Visitors  Revenue  Marketing Spend           Promo\n0  09/11/2020     Monday       707     5211          651.375        No Promo\n1  10/11/2020    Tuesday      1455    10386         1298.250   Promotion Red\n2  11/11/2020  Wednesday      1520    12475         1559.375  Promotion Blue\n3  12/11/2020   Thursday      1726    14414         1801.750        No Promo\n4  13/11/2020     Friday      2134    20916         2614.500        No Promo",
            "text/html": "<div>\n<style scoped>\n    .dataframe tbody tr th:only-of-type {\n        vertical-align: middle;\n    }\n\n    .dataframe tbody tr th {\n        vertical-align: top;\n    }\n\n    .dataframe thead th {\n        text-align: right;\n    }\n</style>\n<table border=\"1\" class=\"dataframe\">\n  <thead>\n    <tr style=\"text-align: right;\">\n      <th></th>\n      <th>Date</th>\n      <th>Day_Name</th>\n      <th>Visitors</th>\n      <th>Revenue</th>\n      <th>Marketing Spend</th>\n      <th>Promo</th>\n    </tr>\n  </thead>\n  <tbody>\n    <tr>\n      <th>0</th>\n      <td>09/11/2020</td>\n      <td>Monday</td>\n      <td>707</td>\n      <td>5211</td>\n      <td>651.375</td>\n      <td>No Promo</td>\n    </tr>\n    <tr>\n      <th>1</th>\n      <td>10/11/2020</td>\n      <td>Tuesday</td>\n      <td>1455</td>\n      <td>10386</td>\n      <td>1298.250</td>\n      <td>Promotion Red</td>\n    </tr>\n    <tr>\n      <th>2</th>\n      <td>11/11/2020</td>\n      <td>Wednesday</td>\n      <td>1520</td>\n      <td>12475</td>\n      <td>1559.375</td>\n      <td>Promotion Blue</td>\n    </tr>\n    <tr>\n      <th>3</th>\n      <td>12/11/2020</td>\n      <td>Thursday</td>\n      <td>1726</td>\n      <td>14414</td>\n      <td>1801.750</td>\n      <td>No Promo</td>\n    </tr>\n    <tr>\n      <th>4</th>\n      <td>13/11/2020</td>\n      <td>Friday</td>\n      <td>2134</td>\n      <td>20916</td>\n      <td>2614.500</td>\n      <td>No Promo</td>\n    </tr>\n  </tbody>\n</table>\n</div>"
          },
          "metadata": {}
        }
      ]
    },
    {
      "cell_type": "markdown",
      "source": "## 5. Basic methods for investigating/viewing a DataFrame",
      "metadata": {}
    },
    {
      "cell_type": "code",
      "source": "# Display the last N number of rows\nraw_data.tail(5)",
      "metadata": {
        "trusted": true
      },
      "execution_count": 4,
      "outputs": [
        {
          "execution_count": 4,
          "output_type": "execute_result",
          "data": {
            "text/plain": "           Date   Day_Name  Visitors  Revenue  Marketing Spend          Promo\n177  05/05/2021  Wednesday      1400    11196      1119.600000       No Promo\n178  06/05/2021   Thursday      2244    18611      2067.888889  Promotion Red\n179  07/05/2021     Friday      2023    14502      1450.200000       No Promo\n180  08/05/2021   Saturday      1483     8975      1121.875000       No Promo\n181  09/05/2021     Sunday      1303     6968       871.000000       No Promo",
            "text/html": "<div>\n<style scoped>\n    .dataframe tbody tr th:only-of-type {\n        vertical-align: middle;\n    }\n\n    .dataframe tbody tr th {\n        vertical-align: top;\n    }\n\n    .dataframe thead th {\n        text-align: right;\n    }\n</style>\n<table border=\"1\" class=\"dataframe\">\n  <thead>\n    <tr style=\"text-align: right;\">\n      <th></th>\n      <th>Date</th>\n      <th>Day_Name</th>\n      <th>Visitors</th>\n      <th>Revenue</th>\n      <th>Marketing Spend</th>\n      <th>Promo</th>\n    </tr>\n  </thead>\n  <tbody>\n    <tr>\n      <th>177</th>\n      <td>05/05/2021</td>\n      <td>Wednesday</td>\n      <td>1400</td>\n      <td>11196</td>\n      <td>1119.600000</td>\n      <td>No Promo</td>\n    </tr>\n    <tr>\n      <th>178</th>\n      <td>06/05/2021</td>\n      <td>Thursday</td>\n      <td>2244</td>\n      <td>18611</td>\n      <td>2067.888889</td>\n      <td>Promotion Red</td>\n    </tr>\n    <tr>\n      <th>179</th>\n      <td>07/05/2021</td>\n      <td>Friday</td>\n      <td>2023</td>\n      <td>14502</td>\n      <td>1450.200000</td>\n      <td>No Promo</td>\n    </tr>\n    <tr>\n      <th>180</th>\n      <td>08/05/2021</td>\n      <td>Saturday</td>\n      <td>1483</td>\n      <td>8975</td>\n      <td>1121.875000</td>\n      <td>No Promo</td>\n    </tr>\n    <tr>\n      <th>181</th>\n      <td>09/05/2021</td>\n      <td>Sunday</td>\n      <td>1303</td>\n      <td>6968</td>\n      <td>871.000000</td>\n      <td>No Promo</td>\n    </tr>\n  </tbody>\n</table>\n</div>"
          },
          "metadata": {}
        }
      ]
    },
    {
      "cell_type": "code",
      "source": "# Shape\nraw_data.shape",
      "metadata": {
        "trusted": true
      },
      "execution_count": 5,
      "outputs": [
        {
          "execution_count": 5,
          "output_type": "execute_result",
          "data": {
            "text/plain": "(182, 6)"
          },
          "metadata": {}
        }
      ]
    },
    {
      "cell_type": "code",
      "source": "# Displays the information for our DF\nraw_data.info()",
      "metadata": {
        "trusted": true
      },
      "execution_count": 6,
      "outputs": [
        {
          "name": "stdout",
          "text": "<class 'pandas.core.frame.DataFrame'>\nRangeIndex: 182 entries, 0 to 181\nData columns (total 6 columns):\n #   Column           Non-Null Count  Dtype  \n---  ------           --------------  -----  \n 0   Date             182 non-null    object \n 1   Day_Name         182 non-null    object \n 2   Visitors         182 non-null    int64  \n 3   Revenue          182 non-null    int64  \n 4   Marketing Spend  182 non-null    float64\n 5   Promo            182 non-null    object \ndtypes: float64(1), int64(2), object(3)\nmemory usage: 6.5+ KB\n",
          "output_type": "stream"
        }
      ]
    },
    {
      "cell_type": "code",
      "source": "# Converting Date to Date\nraw_data['Date'] = pd.to_datetime(raw_data['Date'], format='%d/%m/%Y')\nraw_data\nraw_data.info()",
      "metadata": {
        "trusted": true
      },
      "execution_count": 7,
      "outputs": [
        {
          "name": "stdout",
          "text": "<class 'pandas.core.frame.DataFrame'>\nRangeIndex: 182 entries, 0 to 181\nData columns (total 6 columns):\n #   Column           Non-Null Count  Dtype         \n---  ------           --------------  -----         \n 0   Date             182 non-null    datetime64[ns]\n 1   Day_Name         182 non-null    object        \n 2   Visitors         182 non-null    int64         \n 3   Revenue          182 non-null    int64         \n 4   Marketing Spend  182 non-null    float64       \n 5   Promo            182 non-null    object        \ndtypes: datetime64[ns](1), float64(1), int64(2), object(2)\nmemory usage: 7.2+ KB\n",
          "output_type": "stream"
        }
      ]
    },
    {
      "cell_type": "code",
      "source": "# Displays the summary statistics for all numeric columns\nraw_data.describe()",
      "metadata": {
        "trusted": true
      },
      "execution_count": 8,
      "outputs": [
        {
          "execution_count": 8,
          "output_type": "execute_result",
          "data": {
            "text/plain": "          Visitors       Revenue  Marketing Spend\ncount   182.000000    182.000000       182.000000\nmean   1666.730769  12991.840659      1396.356564\nstd     503.528049   5883.117597       691.867416\nmin     488.000000   2898.000000       322.000000\n25%    1339.000000   8808.500000       880.431250\n50%    1546.000000  11547.500000      1223.900000\n75%    2027.500000  15816.500000      1676.450000\nmax    4139.000000  36283.000000      4535.375000",
            "text/html": "<div>\n<style scoped>\n    .dataframe tbody tr th:only-of-type {\n        vertical-align: middle;\n    }\n\n    .dataframe tbody tr th {\n        vertical-align: top;\n    }\n\n    .dataframe thead th {\n        text-align: right;\n    }\n</style>\n<table border=\"1\" class=\"dataframe\">\n  <thead>\n    <tr style=\"text-align: right;\">\n      <th></th>\n      <th>Visitors</th>\n      <th>Revenue</th>\n      <th>Marketing Spend</th>\n    </tr>\n  </thead>\n  <tbody>\n    <tr>\n      <th>count</th>\n      <td>182.000000</td>\n      <td>182.000000</td>\n      <td>182.000000</td>\n    </tr>\n    <tr>\n      <th>mean</th>\n      <td>1666.730769</td>\n      <td>12991.840659</td>\n      <td>1396.356564</td>\n    </tr>\n    <tr>\n      <th>std</th>\n      <td>503.528049</td>\n      <td>5883.117597</td>\n      <td>691.867416</td>\n    </tr>\n    <tr>\n      <th>min</th>\n      <td>488.000000</td>\n      <td>2898.000000</td>\n      <td>322.000000</td>\n    </tr>\n    <tr>\n      <th>25%</th>\n      <td>1339.000000</td>\n      <td>8808.500000</td>\n      <td>880.431250</td>\n    </tr>\n    <tr>\n      <th>50%</th>\n      <td>1546.000000</td>\n      <td>11547.500000</td>\n      <td>1223.900000</td>\n    </tr>\n    <tr>\n      <th>75%</th>\n      <td>2027.500000</td>\n      <td>15816.500000</td>\n      <td>1676.450000</td>\n    </tr>\n    <tr>\n      <th>max</th>\n      <td>4139.000000</td>\n      <td>36283.000000</td>\n      <td>4535.375000</td>\n    </tr>\n  </tbody>\n</table>\n</div>"
          },
          "metadata": {}
        }
      ]
    },
    {
      "cell_type": "markdown",
      "source": "## 6. Column Filtering",
      "metadata": {}
    },
    {
      "cell_type": "code",
      "source": "# Exmp 1 - Series\nraw_data['Visitors'].head()",
      "metadata": {
        "trusted": true
      },
      "execution_count": 9,
      "outputs": [
        {
          "execution_count": 9,
          "output_type": "execute_result",
          "data": {
            "text/plain": "0     707\n1    1455\n2    1520\n3    1726\n4    2134\nName: Visitors, dtype: int64"
          },
          "metadata": {}
        }
      ]
    },
    {
      "cell_type": "code",
      "source": "# Exmp 2 - Series\nraw_data.Visitors.head()",
      "metadata": {
        "trusted": true
      },
      "execution_count": 10,
      "outputs": [
        {
          "execution_count": 10,
          "output_type": "execute_result",
          "data": {
            "text/plain": "0     707\n1    1455\n2    1520\n3    1726\n4    2134\nName: Visitors, dtype: int64"
          },
          "metadata": {}
        }
      ]
    },
    {
      "cell_type": "code",
      "source": "# Exmp 3 -  Data Frame\ntype(raw_data[['Visitors']])\n\n# Exmp 4 -  Data Frame 2 columns +\nraw_data[['Visitors', 'Revenue','Marketing Spend']].head()",
      "metadata": {
        "trusted": true
      },
      "execution_count": 12,
      "outputs": [
        {
          "execution_count": 12,
          "output_type": "execute_result",
          "data": {
            "text/plain": "   Visitors  Revenue  Marketing Spend\n0       707     5211          651.375\n1      1455    10386         1298.250\n2      1520    12475         1559.375\n3      1726    14414         1801.750\n4      2134    20916         2614.500",
            "text/html": "<div>\n<style scoped>\n    .dataframe tbody tr th:only-of-type {\n        vertical-align: middle;\n    }\n\n    .dataframe tbody tr th {\n        vertical-align: top;\n    }\n\n    .dataframe thead th {\n        text-align: right;\n    }\n</style>\n<table border=\"1\" class=\"dataframe\">\n  <thead>\n    <tr style=\"text-align: right;\">\n      <th></th>\n      <th>Visitors</th>\n      <th>Revenue</th>\n      <th>Marketing Spend</th>\n    </tr>\n  </thead>\n  <tbody>\n    <tr>\n      <th>0</th>\n      <td>707</td>\n      <td>5211</td>\n      <td>651.375</td>\n    </tr>\n    <tr>\n      <th>1</th>\n      <td>1455</td>\n      <td>10386</td>\n      <td>1298.250</td>\n    </tr>\n    <tr>\n      <th>2</th>\n      <td>1520</td>\n      <td>12475</td>\n      <td>1559.375</td>\n    </tr>\n    <tr>\n      <th>3</th>\n      <td>1726</td>\n      <td>14414</td>\n      <td>1801.750</td>\n    </tr>\n    <tr>\n      <th>4</th>\n      <td>2134</td>\n      <td>20916</td>\n      <td>2614.500</td>\n    </tr>\n  </tbody>\n</table>\n</div>"
          },
          "metadata": {}
        }
      ]
    },
    {
      "cell_type": "code",
      "source": "# Creating an Array from a df column\n\n# exm 1\nnp.array(raw_data[['Visitors']])\n\n# exm 2\nraw_data[['Visitors']].values\n\nraw_data[['Visitors']].sum()\n\nnp.sum(raw_data[['Visitors']])",
      "metadata": {
        "trusted": true
      },
      "execution_count": 15,
      "outputs": [
        {
          "execution_count": 15,
          "output_type": "execute_result",
          "data": {
            "text/plain": "Visitors    303345\ndtype: int64"
          },
          "metadata": {}
        }
      ]
    },
    {
      "cell_type": "markdown",
      "source": "## 7. Row Filtering",
      "metadata": {}
    },
    {
      "cell_type": "code",
      "source": "# Exmp 1\nraw_data[0:5]",
      "metadata": {
        "trusted": true
      },
      "execution_count": 16,
      "outputs": [
        {
          "execution_count": 16,
          "output_type": "execute_result",
          "data": {
            "text/plain": "         Date   Day_Name  Visitors  Revenue  Marketing Spend           Promo\n0  09/11/2020     Monday       707     5211          651.375        No Promo\n1  10/11/2020    Tuesday      1455    10386         1298.250   Promotion Red\n2  11/11/2020  Wednesday      1520    12475         1559.375  Promotion Blue\n3  12/11/2020   Thursday      1726    14414         1801.750        No Promo\n4  13/11/2020     Friday      2134    20916         2614.500        No Promo",
            "text/html": "<div>\n<style scoped>\n    .dataframe tbody tr th:only-of-type {\n        vertical-align: middle;\n    }\n\n    .dataframe tbody tr th {\n        vertical-align: top;\n    }\n\n    .dataframe thead th {\n        text-align: right;\n    }\n</style>\n<table border=\"1\" class=\"dataframe\">\n  <thead>\n    <tr style=\"text-align: right;\">\n      <th></th>\n      <th>Date</th>\n      <th>Day_Name</th>\n      <th>Visitors</th>\n      <th>Revenue</th>\n      <th>Marketing Spend</th>\n      <th>Promo</th>\n    </tr>\n  </thead>\n  <tbody>\n    <tr>\n      <th>0</th>\n      <td>09/11/2020</td>\n      <td>Monday</td>\n      <td>707</td>\n      <td>5211</td>\n      <td>651.375</td>\n      <td>No Promo</td>\n    </tr>\n    <tr>\n      <th>1</th>\n      <td>10/11/2020</td>\n      <td>Tuesday</td>\n      <td>1455</td>\n      <td>10386</td>\n      <td>1298.250</td>\n      <td>Promotion Red</td>\n    </tr>\n    <tr>\n      <th>2</th>\n      <td>11/11/2020</td>\n      <td>Wednesday</td>\n      <td>1520</td>\n      <td>12475</td>\n      <td>1559.375</td>\n      <td>Promotion Blue</td>\n    </tr>\n    <tr>\n      <th>3</th>\n      <td>12/11/2020</td>\n      <td>Thursday</td>\n      <td>1726</td>\n      <td>14414</td>\n      <td>1801.750</td>\n      <td>No Promo</td>\n    </tr>\n    <tr>\n      <th>4</th>\n      <td>13/11/2020</td>\n      <td>Friday</td>\n      <td>2134</td>\n      <td>20916</td>\n      <td>2614.500</td>\n      <td>No Promo</td>\n    </tr>\n  </tbody>\n</table>\n</div>"
          },
          "metadata": {}
        }
      ]
    },
    {
      "cell_type": "code",
      "source": "# Exmp 2\nraw_data.loc[0:5]",
      "metadata": {
        "trusted": true
      },
      "execution_count": 17,
      "outputs": [
        {
          "execution_count": 17,
          "output_type": "execute_result",
          "data": {
            "text/plain": "         Date   Day_Name  Visitors  Revenue  Marketing Spend           Promo\n0  09/11/2020     Monday       707     5211          651.375        No Promo\n1  10/11/2020    Tuesday      1455    10386         1298.250   Promotion Red\n2  11/11/2020  Wednesday      1520    12475         1559.375  Promotion Blue\n3  12/11/2020   Thursday      1726    14414         1801.750        No Promo\n4  13/11/2020     Friday      2134    20916         2614.500        No Promo\n5  14/11/2020   Saturday      1316    12996         1444.000  Promotion Blue",
            "text/html": "<div>\n<style scoped>\n    .dataframe tbody tr th:only-of-type {\n        vertical-align: middle;\n    }\n\n    .dataframe tbody tr th {\n        vertical-align: top;\n    }\n\n    .dataframe thead th {\n        text-align: right;\n    }\n</style>\n<table border=\"1\" class=\"dataframe\">\n  <thead>\n    <tr style=\"text-align: right;\">\n      <th></th>\n      <th>Date</th>\n      <th>Day_Name</th>\n      <th>Visitors</th>\n      <th>Revenue</th>\n      <th>Marketing Spend</th>\n      <th>Promo</th>\n    </tr>\n  </thead>\n  <tbody>\n    <tr>\n      <th>0</th>\n      <td>09/11/2020</td>\n      <td>Monday</td>\n      <td>707</td>\n      <td>5211</td>\n      <td>651.375</td>\n      <td>No Promo</td>\n    </tr>\n    <tr>\n      <th>1</th>\n      <td>10/11/2020</td>\n      <td>Tuesday</td>\n      <td>1455</td>\n      <td>10386</td>\n      <td>1298.250</td>\n      <td>Promotion Red</td>\n    </tr>\n    <tr>\n      <th>2</th>\n      <td>11/11/2020</td>\n      <td>Wednesday</td>\n      <td>1520</td>\n      <td>12475</td>\n      <td>1559.375</td>\n      <td>Promotion Blue</td>\n    </tr>\n    <tr>\n      <th>3</th>\n      <td>12/11/2020</td>\n      <td>Thursday</td>\n      <td>1726</td>\n      <td>14414</td>\n      <td>1801.750</td>\n      <td>No Promo</td>\n    </tr>\n    <tr>\n      <th>4</th>\n      <td>13/11/2020</td>\n      <td>Friday</td>\n      <td>2134</td>\n      <td>20916</td>\n      <td>2614.500</td>\n      <td>No Promo</td>\n    </tr>\n    <tr>\n      <th>5</th>\n      <td>14/11/2020</td>\n      <td>Saturday</td>\n      <td>1316</td>\n      <td>12996</td>\n      <td>1444.000</td>\n      <td>Promotion Blue</td>\n    </tr>\n  </tbody>\n</table>\n</div>"
          },
          "metadata": {}
        }
      ]
    },
    {
      "cell_type": "markdown",
      "source": "## 8. Filtering / Slicing",
      "metadata": {}
    },
    {
      "cell_type": "code",
      "source": "# Select all the data when the day is Monday\n\n# exmp 1\nraw_data[raw_data['Day_Name'] == 'Monday']\n\n# exmp 2\nraw_data[raw_data.Day_Name == 'Monday'].head()",
      "metadata": {
        "trusted": true
      },
      "execution_count": 19,
      "outputs": [
        {
          "execution_count": 19,
          "output_type": "execute_result",
          "data": {
            "text/plain": "          Date Day_Name  Visitors  Revenue  Marketing Spend           Promo\n0   09/11/2020   Monday       707     5211       651.375000        No Promo\n7   16/11/2020   Monday      1548    10072      1119.111111        No Promo\n14  23/11/2020   Monday      2632    34278      4284.750000  Promotion Blue\n21  30/11/2020   Monday      1541     9144      1016.000000        No Promo\n28  07/12/2020   Monday      1584     9612       961.200000   Promotion Red",
            "text/html": "<div>\n<style scoped>\n    .dataframe tbody tr th:only-of-type {\n        vertical-align: middle;\n    }\n\n    .dataframe tbody tr th {\n        vertical-align: top;\n    }\n\n    .dataframe thead th {\n        text-align: right;\n    }\n</style>\n<table border=\"1\" class=\"dataframe\">\n  <thead>\n    <tr style=\"text-align: right;\">\n      <th></th>\n      <th>Date</th>\n      <th>Day_Name</th>\n      <th>Visitors</th>\n      <th>Revenue</th>\n      <th>Marketing Spend</th>\n      <th>Promo</th>\n    </tr>\n  </thead>\n  <tbody>\n    <tr>\n      <th>0</th>\n      <td>09/11/2020</td>\n      <td>Monday</td>\n      <td>707</td>\n      <td>5211</td>\n      <td>651.375000</td>\n      <td>No Promo</td>\n    </tr>\n    <tr>\n      <th>7</th>\n      <td>16/11/2020</td>\n      <td>Monday</td>\n      <td>1548</td>\n      <td>10072</td>\n      <td>1119.111111</td>\n      <td>No Promo</td>\n    </tr>\n    <tr>\n      <th>14</th>\n      <td>23/11/2020</td>\n      <td>Monday</td>\n      <td>2632</td>\n      <td>34278</td>\n      <td>4284.750000</td>\n      <td>Promotion Blue</td>\n    </tr>\n    <tr>\n      <th>21</th>\n      <td>30/11/2020</td>\n      <td>Monday</td>\n      <td>1541</td>\n      <td>9144</td>\n      <td>1016.000000</td>\n      <td>No Promo</td>\n    </tr>\n    <tr>\n      <th>28</th>\n      <td>07/12/2020</td>\n      <td>Monday</td>\n      <td>1584</td>\n      <td>9612</td>\n      <td>961.200000</td>\n      <td>Promotion Red</td>\n    </tr>\n  </tbody>\n</table>\n</div>"
          },
          "metadata": {}
        }
      ]
    },
    {
      "cell_type": "code",
      "source": "# Select all the data when the day is Marketing Spend > 1000\n\n# exmp 1\nraw_data[raw_data['Marketing Spend'] > 1000].head()\n\n#raw_data.shape",
      "metadata": {
        "trusted": true
      },
      "execution_count": 20,
      "outputs": [
        {
          "execution_count": 20,
          "output_type": "execute_result",
          "data": {
            "text/plain": "         Date   Day_Name  Visitors  Revenue  Marketing Spend           Promo\n1  10/11/2020    Tuesday      1455    10386         1298.250   Promotion Red\n2  11/11/2020  Wednesday      1520    12475         1559.375  Promotion Blue\n3  12/11/2020   Thursday      1726    14414         1801.750        No Promo\n4  13/11/2020     Friday      2134    20916         2614.500        No Promo\n5  14/11/2020   Saturday      1316    12996         1444.000  Promotion Blue",
            "text/html": "<div>\n<style scoped>\n    .dataframe tbody tr th:only-of-type {\n        vertical-align: middle;\n    }\n\n    .dataframe tbody tr th {\n        vertical-align: top;\n    }\n\n    .dataframe thead th {\n        text-align: right;\n    }\n</style>\n<table border=\"1\" class=\"dataframe\">\n  <thead>\n    <tr style=\"text-align: right;\">\n      <th></th>\n      <th>Date</th>\n      <th>Day_Name</th>\n      <th>Visitors</th>\n      <th>Revenue</th>\n      <th>Marketing Spend</th>\n      <th>Promo</th>\n    </tr>\n  </thead>\n  <tbody>\n    <tr>\n      <th>1</th>\n      <td>10/11/2020</td>\n      <td>Tuesday</td>\n      <td>1455</td>\n      <td>10386</td>\n      <td>1298.250</td>\n      <td>Promotion Red</td>\n    </tr>\n    <tr>\n      <th>2</th>\n      <td>11/11/2020</td>\n      <td>Wednesday</td>\n      <td>1520</td>\n      <td>12475</td>\n      <td>1559.375</td>\n      <td>Promotion Blue</td>\n    </tr>\n    <tr>\n      <th>3</th>\n      <td>12/11/2020</td>\n      <td>Thursday</td>\n      <td>1726</td>\n      <td>14414</td>\n      <td>1801.750</td>\n      <td>No Promo</td>\n    </tr>\n    <tr>\n      <th>4</th>\n      <td>13/11/2020</td>\n      <td>Friday</td>\n      <td>2134</td>\n      <td>20916</td>\n      <td>2614.500</td>\n      <td>No Promo</td>\n    </tr>\n    <tr>\n      <th>5</th>\n      <td>14/11/2020</td>\n      <td>Saturday</td>\n      <td>1316</td>\n      <td>12996</td>\n      <td>1444.000</td>\n      <td>Promotion Blue</td>\n    </tr>\n  </tbody>\n</table>\n</div>"
          },
          "metadata": {}
        }
      ]
    },
    {
      "cell_type": "code",
      "source": "# Select all the data when the day is Marketing Spend > 1000 & Promo = \"No Promo\"\n\n# exmp 1 - 2 conditions\nraw_data[(raw_data['Marketing Spend'] > 1000) & (raw_data['Promo'] == 'No Promo')].head()",
      "metadata": {
        "trusted": true
      },
      "execution_count": 21,
      "outputs": [
        {
          "execution_count": 21,
          "output_type": "execute_result",
          "data": {
            "text/plain": "          Date  Day_Name  Visitors  Revenue  Marketing Spend     Promo\n3   12/11/2020  Thursday      1726    14414      1801.750000  No Promo\n4   13/11/2020    Friday      2134    20916      2614.500000  No Promo\n7   16/11/2020    Monday      1548    10072      1119.111111  No Promo\n10  19/11/2020  Thursday      2321    17660      1605.454545  No Promo\n21  30/11/2020    Monday      1541     9144      1016.000000  No Promo",
            "text/html": "<div>\n<style scoped>\n    .dataframe tbody tr th:only-of-type {\n        vertical-align: middle;\n    }\n\n    .dataframe tbody tr th {\n        vertical-align: top;\n    }\n\n    .dataframe thead th {\n        text-align: right;\n    }\n</style>\n<table border=\"1\" class=\"dataframe\">\n  <thead>\n    <tr style=\"text-align: right;\">\n      <th></th>\n      <th>Date</th>\n      <th>Day_Name</th>\n      <th>Visitors</th>\n      <th>Revenue</th>\n      <th>Marketing Spend</th>\n      <th>Promo</th>\n    </tr>\n  </thead>\n  <tbody>\n    <tr>\n      <th>3</th>\n      <td>12/11/2020</td>\n      <td>Thursday</td>\n      <td>1726</td>\n      <td>14414</td>\n      <td>1801.750000</td>\n      <td>No Promo</td>\n    </tr>\n    <tr>\n      <th>4</th>\n      <td>13/11/2020</td>\n      <td>Friday</td>\n      <td>2134</td>\n      <td>20916</td>\n      <td>2614.500000</td>\n      <td>No Promo</td>\n    </tr>\n    <tr>\n      <th>7</th>\n      <td>16/11/2020</td>\n      <td>Monday</td>\n      <td>1548</td>\n      <td>10072</td>\n      <td>1119.111111</td>\n      <td>No Promo</td>\n    </tr>\n    <tr>\n      <th>10</th>\n      <td>19/11/2020</td>\n      <td>Thursday</td>\n      <td>2321</td>\n      <td>17660</td>\n      <td>1605.454545</td>\n      <td>No Promo</td>\n    </tr>\n    <tr>\n      <th>21</th>\n      <td>30/11/2020</td>\n      <td>Monday</td>\n      <td>1541</td>\n      <td>9144</td>\n      <td>1016.000000</td>\n      <td>No Promo</td>\n    </tr>\n  </tbody>\n</table>\n</div>"
          },
          "metadata": {}
        }
      ]
    },
    {
      "cell_type": "markdown",
      "source": "## 9. Sorting the DF\n",
      "metadata": {}
    },
    {
      "cell_type": "code",
      "source": "# Exmp 1 - by Date\nraw_data.sort_values(by = 'Date')\n\n# Exmp 2 - passing it back v1\nraw_data = raw_data.sort_values(by = 'Date')\n\n# Exmp 3 - passing it back v2\nraw_data.sort_values(by = 'Date', inplace = True)\n\n# Exmp 4 - by Rev asc\nraw_data.sort_values(by = 'Revenue')\n\n# Exmp 5 - by Rev desc\nraw_data.sort_values(by = 'Revenue', ascending = False, inplace = True)\n\nraw_data.head()",
      "metadata": {
        "trusted": true
      },
      "execution_count": 22,
      "outputs": [
        {
          "execution_count": 22,
          "output_type": "execute_result",
          "data": {
            "text/plain": "           Date  Day_Name  Visitors  Revenue  Marketing Spend           Promo\n47   26/12/2020  Saturday      2678    36283      4535.375000  Promotion Blue\n14   23/11/2020    Monday      2632    34278      4284.750000  Promotion Blue\n59   07/01/2021  Thursday      4139    30146      3014.600000        No Promo\n124  13/03/2021  Saturday      2732    28196      3524.500000  Promotion Blue\n109  26/02/2021    Friday      2553    26608      2418.909091  Promotion Blue",
            "text/html": "<div>\n<style scoped>\n    .dataframe tbody tr th:only-of-type {\n        vertical-align: middle;\n    }\n\n    .dataframe tbody tr th {\n        vertical-align: top;\n    }\n\n    .dataframe thead th {\n        text-align: right;\n    }\n</style>\n<table border=\"1\" class=\"dataframe\">\n  <thead>\n    <tr style=\"text-align: right;\">\n      <th></th>\n      <th>Date</th>\n      <th>Day_Name</th>\n      <th>Visitors</th>\n      <th>Revenue</th>\n      <th>Marketing Spend</th>\n      <th>Promo</th>\n    </tr>\n  </thead>\n  <tbody>\n    <tr>\n      <th>47</th>\n      <td>26/12/2020</td>\n      <td>Saturday</td>\n      <td>2678</td>\n      <td>36283</td>\n      <td>4535.375000</td>\n      <td>Promotion Blue</td>\n    </tr>\n    <tr>\n      <th>14</th>\n      <td>23/11/2020</td>\n      <td>Monday</td>\n      <td>2632</td>\n      <td>34278</td>\n      <td>4284.750000</td>\n      <td>Promotion Blue</td>\n    </tr>\n    <tr>\n      <th>59</th>\n      <td>07/01/2021</td>\n      <td>Thursday</td>\n      <td>4139</td>\n      <td>30146</td>\n      <td>3014.600000</td>\n      <td>No Promo</td>\n    </tr>\n    <tr>\n      <th>124</th>\n      <td>13/03/2021</td>\n      <td>Saturday</td>\n      <td>2732</td>\n      <td>28196</td>\n      <td>3524.500000</td>\n      <td>Promotion Blue</td>\n    </tr>\n    <tr>\n      <th>109</th>\n      <td>26/02/2021</td>\n      <td>Friday</td>\n      <td>2553</td>\n      <td>26608</td>\n      <td>2418.909091</td>\n      <td>Promotion Blue</td>\n    </tr>\n  </tbody>\n</table>\n</div>"
          },
          "metadata": {}
        }
      ]
    },
    {
      "cell_type": "markdown",
      "source": "## 10. Aggregating the DF",
      "metadata": {}
    },
    {
      "cell_type": "code",
      "source": "# Exmp 1 - Total Revenue\nraw_data['Revenue'].sum()\nnp.sum(raw_data['Revenue'])\n\n# Exmp 2 - Average Visitors\nraw_data['Visitors'].mean()\n\n# Exmp 3 - Max Marketing Spend\nraw_data['Marketing Spend'].min()",
      "metadata": {
        "trusted": true
      },
      "execution_count": 23,
      "outputs": [
        {
          "execution_count": 23,
          "output_type": "execute_result",
          "data": {
            "text/plain": "322.0"
          },
          "metadata": {}
        }
      ]
    },
    {
      "cell_type": "code",
      "source": "# Sum of Revenue by Day Name\n\n# option 1 - Series\nraw_data.groupby('Day_Name')['Revenue'].sum()\n\n# option 2 - df\na = raw_data.groupby('Day_Name', as_index = False).agg({'Revenue':'sum'})\na",
      "metadata": {
        "trusted": true
      },
      "execution_count": 24,
      "outputs": [
        {
          "execution_count": 24,
          "output_type": "execute_result",
          "data": {
            "text/plain": "    Day_Name  Revenue\n0     Friday   447823\n1     Monday   270080\n2   Saturday   285171\n3     Sunday   286458\n4   Thursday   491323\n5    Tuesday   261206\n6  Wednesday   322454",
            "text/html": "<div>\n<style scoped>\n    .dataframe tbody tr th:only-of-type {\n        vertical-align: middle;\n    }\n\n    .dataframe tbody tr th {\n        vertical-align: top;\n    }\n\n    .dataframe thead th {\n        text-align: right;\n    }\n</style>\n<table border=\"1\" class=\"dataframe\">\n  <thead>\n    <tr style=\"text-align: right;\">\n      <th></th>\n      <th>Day_Name</th>\n      <th>Revenue</th>\n    </tr>\n  </thead>\n  <tbody>\n    <tr>\n      <th>0</th>\n      <td>Friday</td>\n      <td>447823</td>\n    </tr>\n    <tr>\n      <th>1</th>\n      <td>Monday</td>\n      <td>270080</td>\n    </tr>\n    <tr>\n      <th>2</th>\n      <td>Saturday</td>\n      <td>285171</td>\n    </tr>\n    <tr>\n      <th>3</th>\n      <td>Sunday</td>\n      <td>286458</td>\n    </tr>\n    <tr>\n      <th>4</th>\n      <td>Thursday</td>\n      <td>491323</td>\n    </tr>\n    <tr>\n      <th>5</th>\n      <td>Tuesday</td>\n      <td>261206</td>\n    </tr>\n    <tr>\n      <th>6</th>\n      <td>Wednesday</td>\n      <td>322454</td>\n    </tr>\n  </tbody>\n</table>\n</div>"
          },
          "metadata": {}
        }
      ]
    },
    {
      "cell_type": "code",
      "source": "# Sum of Revenue by Day Name & number of Data points\na = raw_data.groupby('Day_Name', as_index = False).agg({'Revenue':'sum', 'Date':'count'})\n\n# Renaming columns v1\n#a.columns = ['Day_Name','Revenue','Count of Datapoints']\n#a\n\n# Renaming columns v1\na.columns = a.columns.str.replace('Date', 'Count of Datapoints')",
      "metadata": {
        "trusted": true
      },
      "execution_count": 26,
      "outputs": []
    },
    {
      "cell_type": "code",
      "source": "raw_data.columns",
      "metadata": {
        "trusted": true
      },
      "execution_count": 27,
      "outputs": [
        {
          "execution_count": 27,
          "output_type": "execute_result",
          "data": {
            "text/plain": "Index(['Date', 'Day_Name', 'Visitors', 'Revenue', 'Marketing Spend', 'Promo'], dtype='object')"
          },
          "metadata": {}
        }
      ]
    },
    {
      "cell_type": "code",
      "source": "# avg Summary by Promo\nraw_data.groupby('Promo', as_index = False).agg({'Revenue':'mean', 'Visitors':'mean', 'Marketing Spend':'mean'})\n\n",
      "metadata": {
        "trusted": true
      },
      "execution_count": 28,
      "outputs": [
        {
          "execution_count": 28,
          "output_type": "execute_result",
          "data": {
            "text/plain": "            Promo       Revenue     Visitors  Marketing Spend\n0        No Promo  10945.229730  1627.648649      1176.664264\n1  Promotion Blue  16754.185185  1790.907407      1829.731425\n2   Promotion Red  12034.111111  1596.111111      1264.041522",
            "text/html": "<div>\n<style scoped>\n    .dataframe tbody tr th:only-of-type {\n        vertical-align: middle;\n    }\n\n    .dataframe tbody tr th {\n        vertical-align: top;\n    }\n\n    .dataframe thead th {\n        text-align: right;\n    }\n</style>\n<table border=\"1\" class=\"dataframe\">\n  <thead>\n    <tr style=\"text-align: right;\">\n      <th></th>\n      <th>Promo</th>\n      <th>Revenue</th>\n      <th>Visitors</th>\n      <th>Marketing Spend</th>\n    </tr>\n  </thead>\n  <tbody>\n    <tr>\n      <th>0</th>\n      <td>No Promo</td>\n      <td>10945.229730</td>\n      <td>1627.648649</td>\n      <td>1176.664264</td>\n    </tr>\n    <tr>\n      <th>1</th>\n      <td>Promotion Blue</td>\n      <td>16754.185185</td>\n      <td>1790.907407</td>\n      <td>1829.731425</td>\n    </tr>\n    <tr>\n      <th>2</th>\n      <td>Promotion Red</td>\n      <td>12034.111111</td>\n      <td>1596.111111</td>\n      <td>1264.041522</td>\n    </tr>\n  </tbody>\n</table>\n</div>"
          },
          "metadata": {}
        }
      ]
    },
    {
      "cell_type": "code",
      "source": "# Sum the revenue by Promo when the Day Name = 'Saturday'\nraw_data[raw_data['Day_Name'] == 'Saturday'].groupby('Promo', as_index = False).agg({'Revenue':'mean', 'Visitors':'mean', 'Marketing Spend':'mean'})",
      "metadata": {
        "trusted": true
      },
      "execution_count": 30,
      "outputs": [
        {
          "execution_count": 30,
          "output_type": "execute_result",
          "data": {
            "text/plain": "            Promo       Revenue     Visitors  Marketing Spend\n0        No Promo   8128.000000  1302.818182       839.546511\n1  Promotion Blue  16429.000000  1666.125000      1940.668056\n2   Promotion Red   9190.142857  1285.857143       953.681061",
            "text/html": "<div>\n<style scoped>\n    .dataframe tbody tr th:only-of-type {\n        vertical-align: middle;\n    }\n\n    .dataframe tbody tr th {\n        vertical-align: top;\n    }\n\n    .dataframe thead th {\n        text-align: right;\n    }\n</style>\n<table border=\"1\" class=\"dataframe\">\n  <thead>\n    <tr style=\"text-align: right;\">\n      <th></th>\n      <th>Promo</th>\n      <th>Revenue</th>\n      <th>Visitors</th>\n      <th>Marketing Spend</th>\n    </tr>\n  </thead>\n  <tbody>\n    <tr>\n      <th>0</th>\n      <td>No Promo</td>\n      <td>8128.000000</td>\n      <td>1302.818182</td>\n      <td>839.546511</td>\n    </tr>\n    <tr>\n      <th>1</th>\n      <td>Promotion Blue</td>\n      <td>16429.000000</td>\n      <td>1666.125000</td>\n      <td>1940.668056</td>\n    </tr>\n    <tr>\n      <th>2</th>\n      <td>Promotion Red</td>\n      <td>9190.142857</td>\n      <td>1285.857143</td>\n      <td>953.681061</td>\n    </tr>\n  </tbody>\n</table>\n</div>"
          },
          "metadata": {}
        }
      ]
    },
    {
      "cell_type": "code",
      "source": "raw_data.head()",
      "metadata": {
        "trusted": true
      },
      "execution_count": 31,
      "outputs": [
        {
          "execution_count": 31,
          "output_type": "execute_result",
          "data": {
            "text/plain": "           Date  Day_Name  Visitors  Revenue  Marketing Spend           Promo\n47   26/12/2020  Saturday      2678    36283      4535.375000  Promotion Blue\n14   23/11/2020    Monday      2632    34278      4284.750000  Promotion Blue\n59   07/01/2021  Thursday      4139    30146      3014.600000        No Promo\n124  13/03/2021  Saturday      2732    28196      3524.500000  Promotion Blue\n109  26/02/2021    Friday      2553    26608      2418.909091  Promotion Blue",
            "text/html": "<div>\n<style scoped>\n    .dataframe tbody tr th:only-of-type {\n        vertical-align: middle;\n    }\n\n    .dataframe tbody tr th {\n        vertical-align: top;\n    }\n\n    .dataframe thead th {\n        text-align: right;\n    }\n</style>\n<table border=\"1\" class=\"dataframe\">\n  <thead>\n    <tr style=\"text-align: right;\">\n      <th></th>\n      <th>Date</th>\n      <th>Day_Name</th>\n      <th>Visitors</th>\n      <th>Revenue</th>\n      <th>Marketing Spend</th>\n      <th>Promo</th>\n    </tr>\n  </thead>\n  <tbody>\n    <tr>\n      <th>47</th>\n      <td>26/12/2020</td>\n      <td>Saturday</td>\n      <td>2678</td>\n      <td>36283</td>\n      <td>4535.375000</td>\n      <td>Promotion Blue</td>\n    </tr>\n    <tr>\n      <th>14</th>\n      <td>23/11/2020</td>\n      <td>Monday</td>\n      <td>2632</td>\n      <td>34278</td>\n      <td>4284.750000</td>\n      <td>Promotion Blue</td>\n    </tr>\n    <tr>\n      <th>59</th>\n      <td>07/01/2021</td>\n      <td>Thursday</td>\n      <td>4139</td>\n      <td>30146</td>\n      <td>3014.600000</td>\n      <td>No Promo</td>\n    </tr>\n    <tr>\n      <th>124</th>\n      <td>13/03/2021</td>\n      <td>Saturday</td>\n      <td>2732</td>\n      <td>28196</td>\n      <td>3524.500000</td>\n      <td>Promotion Blue</td>\n    </tr>\n    <tr>\n      <th>109</th>\n      <td>26/02/2021</td>\n      <td>Friday</td>\n      <td>2553</td>\n      <td>26608</td>\n      <td>2418.909091</td>\n      <td>Promotion Blue</td>\n    </tr>\n  </tbody>\n</table>\n</div>"
          },
          "metadata": {}
        }
      ]
    },
    {
      "cell_type": "markdown",
      "source": "## 11. Creating New Calculated Fields",
      "metadata": {}
    },
    {
      "cell_type": "code",
      "source": "# Revenue per Visitor\nraw_data['Revenue per Visitor'] = raw_data['Revenue'] / raw_data['Visitors']\nraw_data.head()",
      "metadata": {
        "trusted": true
      },
      "execution_count": 32,
      "outputs": [
        {
          "execution_count": 32,
          "output_type": "execute_result",
          "data": {
            "text/plain": "           Date  Day_Name  Visitors  Revenue  Marketing Spend           Promo  \\\n47   26/12/2020  Saturday      2678    36283      4535.375000  Promotion Blue   \n14   23/11/2020    Monday      2632    34278      4284.750000  Promotion Blue   \n59   07/01/2021  Thursday      4139    30146      3014.600000        No Promo   \n124  13/03/2021  Saturday      2732    28196      3524.500000  Promotion Blue   \n109  26/02/2021    Friday      2553    26608      2418.909091  Promotion Blue   \n\n     Revenue per Visitor  \n47             13.548544  \n14             13.023556  \n59              7.283402  \n124            10.320644  \n109            10.422248  ",
            "text/html": "<div>\n<style scoped>\n    .dataframe tbody tr th:only-of-type {\n        vertical-align: middle;\n    }\n\n    .dataframe tbody tr th {\n        vertical-align: top;\n    }\n\n    .dataframe thead th {\n        text-align: right;\n    }\n</style>\n<table border=\"1\" class=\"dataframe\">\n  <thead>\n    <tr style=\"text-align: right;\">\n      <th></th>\n      <th>Date</th>\n      <th>Day_Name</th>\n      <th>Visitors</th>\n      <th>Revenue</th>\n      <th>Marketing Spend</th>\n      <th>Promo</th>\n      <th>Revenue per Visitor</th>\n    </tr>\n  </thead>\n  <tbody>\n    <tr>\n      <th>47</th>\n      <td>26/12/2020</td>\n      <td>Saturday</td>\n      <td>2678</td>\n      <td>36283</td>\n      <td>4535.375000</td>\n      <td>Promotion Blue</td>\n      <td>13.548544</td>\n    </tr>\n    <tr>\n      <th>14</th>\n      <td>23/11/2020</td>\n      <td>Monday</td>\n      <td>2632</td>\n      <td>34278</td>\n      <td>4284.750000</td>\n      <td>Promotion Blue</td>\n      <td>13.023556</td>\n    </tr>\n    <tr>\n      <th>59</th>\n      <td>07/01/2021</td>\n      <td>Thursday</td>\n      <td>4139</td>\n      <td>30146</td>\n      <td>3014.600000</td>\n      <td>No Promo</td>\n      <td>7.283402</td>\n    </tr>\n    <tr>\n      <th>124</th>\n      <td>13/03/2021</td>\n      <td>Saturday</td>\n      <td>2732</td>\n      <td>28196</td>\n      <td>3524.500000</td>\n      <td>Promotion Blue</td>\n      <td>10.320644</td>\n    </tr>\n    <tr>\n      <th>109</th>\n      <td>26/02/2021</td>\n      <td>Friday</td>\n      <td>2553</td>\n      <td>26608</td>\n      <td>2418.909091</td>\n      <td>Promotion Blue</td>\n      <td>10.422248</td>\n    </tr>\n  </tbody>\n</table>\n</div>"
          },
          "metadata": {}
        }
      ]
    },
    {
      "cell_type": "code",
      "source": "# Revenue per Spend\nraw_data['Revenue per Spend'] = raw_data['Revenue'] / raw_data['Marketing Spend']\nraw_data.head()\n\nraw_data['Aasdfsad'] = raw_data['Revenue'] / raw_data['Marketing Spend']\nraw_data.head()",
      "metadata": {
        "trusted": true
      },
      "execution_count": 33,
      "outputs": [
        {
          "execution_count": 33,
          "output_type": "execute_result",
          "data": {
            "text/plain": "           Date  Day_Name  Visitors  Revenue  Marketing Spend           Promo  \\\n47   26/12/2020  Saturday      2678    36283      4535.375000  Promotion Blue   \n14   23/11/2020    Monday      2632    34278      4284.750000  Promotion Blue   \n59   07/01/2021  Thursday      4139    30146      3014.600000        No Promo   \n124  13/03/2021  Saturday      2732    28196      3524.500000  Promotion Blue   \n109  26/02/2021    Friday      2553    26608      2418.909091  Promotion Blue   \n\n     Revenue per Visitor  Revenue per Spend  Aasdfsad  \n47             13.548544                8.0       8.0  \n14             13.023556                8.0       8.0  \n59              7.283402               10.0      10.0  \n124            10.320644                8.0       8.0  \n109            10.422248               11.0      11.0  ",
            "text/html": "<div>\n<style scoped>\n    .dataframe tbody tr th:only-of-type {\n        vertical-align: middle;\n    }\n\n    .dataframe tbody tr th {\n        vertical-align: top;\n    }\n\n    .dataframe thead th {\n        text-align: right;\n    }\n</style>\n<table border=\"1\" class=\"dataframe\">\n  <thead>\n    <tr style=\"text-align: right;\">\n      <th></th>\n      <th>Date</th>\n      <th>Day_Name</th>\n      <th>Visitors</th>\n      <th>Revenue</th>\n      <th>Marketing Spend</th>\n      <th>Promo</th>\n      <th>Revenue per Visitor</th>\n      <th>Revenue per Spend</th>\n      <th>Aasdfsad</th>\n    </tr>\n  </thead>\n  <tbody>\n    <tr>\n      <th>47</th>\n      <td>26/12/2020</td>\n      <td>Saturday</td>\n      <td>2678</td>\n      <td>36283</td>\n      <td>4535.375000</td>\n      <td>Promotion Blue</td>\n      <td>13.548544</td>\n      <td>8.0</td>\n      <td>8.0</td>\n    </tr>\n    <tr>\n      <th>14</th>\n      <td>23/11/2020</td>\n      <td>Monday</td>\n      <td>2632</td>\n      <td>34278</td>\n      <td>4284.750000</td>\n      <td>Promotion Blue</td>\n      <td>13.023556</td>\n      <td>8.0</td>\n      <td>8.0</td>\n    </tr>\n    <tr>\n      <th>59</th>\n      <td>07/01/2021</td>\n      <td>Thursday</td>\n      <td>4139</td>\n      <td>30146</td>\n      <td>3014.600000</td>\n      <td>No Promo</td>\n      <td>7.283402</td>\n      <td>10.0</td>\n      <td>10.0</td>\n    </tr>\n    <tr>\n      <th>124</th>\n      <td>13/03/2021</td>\n      <td>Saturday</td>\n      <td>2732</td>\n      <td>28196</td>\n      <td>3524.500000</td>\n      <td>Promotion Blue</td>\n      <td>10.320644</td>\n      <td>8.0</td>\n      <td>8.0</td>\n    </tr>\n    <tr>\n      <th>109</th>\n      <td>26/02/2021</td>\n      <td>Friday</td>\n      <td>2553</td>\n      <td>26608</td>\n      <td>2418.909091</td>\n      <td>Promotion Blue</td>\n      <td>10.422248</td>\n      <td>11.0</td>\n      <td>11.0</td>\n    </tr>\n  </tbody>\n</table>\n</div>"
          },
          "metadata": {}
        }
      ]
    },
    {
      "cell_type": "code",
      "source": "# Deleting a column\ndel raw_data['Aasdfsad']\nraw_data.head()",
      "metadata": {
        "trusted": true
      },
      "execution_count": 34,
      "outputs": [
        {
          "execution_count": 34,
          "output_type": "execute_result",
          "data": {
            "text/plain": "           Date  Day_Name  Visitors  Revenue  Marketing Spend           Promo  \\\n47   26/12/2020  Saturday      2678    36283      4535.375000  Promotion Blue   \n14   23/11/2020    Monday      2632    34278      4284.750000  Promotion Blue   \n59   07/01/2021  Thursday      4139    30146      3014.600000        No Promo   \n124  13/03/2021  Saturday      2732    28196      3524.500000  Promotion Blue   \n109  26/02/2021    Friday      2553    26608      2418.909091  Promotion Blue   \n\n     Revenue per Visitor  Revenue per Spend  \n47             13.548544                8.0  \n14             13.023556                8.0  \n59              7.283402               10.0  \n124            10.320644                8.0  \n109            10.422248               11.0  ",
            "text/html": "<div>\n<style scoped>\n    .dataframe tbody tr th:only-of-type {\n        vertical-align: middle;\n    }\n\n    .dataframe tbody tr th {\n        vertical-align: top;\n    }\n\n    .dataframe thead th {\n        text-align: right;\n    }\n</style>\n<table border=\"1\" class=\"dataframe\">\n  <thead>\n    <tr style=\"text-align: right;\">\n      <th></th>\n      <th>Date</th>\n      <th>Day_Name</th>\n      <th>Visitors</th>\n      <th>Revenue</th>\n      <th>Marketing Spend</th>\n      <th>Promo</th>\n      <th>Revenue per Visitor</th>\n      <th>Revenue per Spend</th>\n    </tr>\n  </thead>\n  <tbody>\n    <tr>\n      <th>47</th>\n      <td>26/12/2020</td>\n      <td>Saturday</td>\n      <td>2678</td>\n      <td>36283</td>\n      <td>4535.375000</td>\n      <td>Promotion Blue</td>\n      <td>13.548544</td>\n      <td>8.0</td>\n    </tr>\n    <tr>\n      <th>14</th>\n      <td>23/11/2020</td>\n      <td>Monday</td>\n      <td>2632</td>\n      <td>34278</td>\n      <td>4284.750000</td>\n      <td>Promotion Blue</td>\n      <td>13.023556</td>\n      <td>8.0</td>\n    </tr>\n    <tr>\n      <th>59</th>\n      <td>07/01/2021</td>\n      <td>Thursday</td>\n      <td>4139</td>\n      <td>30146</td>\n      <td>3014.600000</td>\n      <td>No Promo</td>\n      <td>7.283402</td>\n      <td>10.0</td>\n    </tr>\n    <tr>\n      <th>124</th>\n      <td>13/03/2021</td>\n      <td>Saturday</td>\n      <td>2732</td>\n      <td>28196</td>\n      <td>3524.500000</td>\n      <td>Promotion Blue</td>\n      <td>10.320644</td>\n      <td>8.0</td>\n    </tr>\n    <tr>\n      <th>109</th>\n      <td>26/02/2021</td>\n      <td>Friday</td>\n      <td>2553</td>\n      <td>26608</td>\n      <td>2418.909091</td>\n      <td>Promotion Blue</td>\n      <td>10.422248</td>\n      <td>11.0</td>\n    </tr>\n  </tbody>\n</table>\n</div>"
          },
          "metadata": {}
        }
      ]
    },
    {
      "cell_type": "code",
      "source": "# Spend per visitor\nraw_data['Spend per visitor'] = raw_data['Marketing Spend'] / raw_data['Visitors']\n\nraw_data.head()",
      "metadata": {
        "trusted": true
      },
      "execution_count": 35,
      "outputs": [
        {
          "execution_count": 35,
          "output_type": "execute_result",
          "data": {
            "text/plain": "           Date  Day_Name  Visitors  Revenue  Marketing Spend           Promo  \\\n47   26/12/2020  Saturday      2678    36283      4535.375000  Promotion Blue   \n14   23/11/2020    Monday      2632    34278      4284.750000  Promotion Blue   \n59   07/01/2021  Thursday      4139    30146      3014.600000        No Promo   \n124  13/03/2021  Saturday      2732    28196      3524.500000  Promotion Blue   \n109  26/02/2021    Friday      2553    26608      2418.909091  Promotion Blue   \n\n     Revenue per Visitor  Revenue per Spend  Spend per visitor  \n47             13.548544                8.0           1.693568  \n14             13.023556                8.0           1.627945  \n59              7.283402               10.0           0.728340  \n124            10.320644                8.0           1.290081  \n109            10.422248               11.0           0.947477  ",
            "text/html": "<div>\n<style scoped>\n    .dataframe tbody tr th:only-of-type {\n        vertical-align: middle;\n    }\n\n    .dataframe tbody tr th {\n        vertical-align: top;\n    }\n\n    .dataframe thead th {\n        text-align: right;\n    }\n</style>\n<table border=\"1\" class=\"dataframe\">\n  <thead>\n    <tr style=\"text-align: right;\">\n      <th></th>\n      <th>Date</th>\n      <th>Day_Name</th>\n      <th>Visitors</th>\n      <th>Revenue</th>\n      <th>Marketing Spend</th>\n      <th>Promo</th>\n      <th>Revenue per Visitor</th>\n      <th>Revenue per Spend</th>\n      <th>Spend per visitor</th>\n    </tr>\n  </thead>\n  <tbody>\n    <tr>\n      <th>47</th>\n      <td>26/12/2020</td>\n      <td>Saturday</td>\n      <td>2678</td>\n      <td>36283</td>\n      <td>4535.375000</td>\n      <td>Promotion Blue</td>\n      <td>13.548544</td>\n      <td>8.0</td>\n      <td>1.693568</td>\n    </tr>\n    <tr>\n      <th>14</th>\n      <td>23/11/2020</td>\n      <td>Monday</td>\n      <td>2632</td>\n      <td>34278</td>\n      <td>4284.750000</td>\n      <td>Promotion Blue</td>\n      <td>13.023556</td>\n      <td>8.0</td>\n      <td>1.627945</td>\n    </tr>\n    <tr>\n      <th>59</th>\n      <td>07/01/2021</td>\n      <td>Thursday</td>\n      <td>4139</td>\n      <td>30146</td>\n      <td>3014.600000</td>\n      <td>No Promo</td>\n      <td>7.283402</td>\n      <td>10.0</td>\n      <td>0.728340</td>\n    </tr>\n    <tr>\n      <th>124</th>\n      <td>13/03/2021</td>\n      <td>Saturday</td>\n      <td>2732</td>\n      <td>28196</td>\n      <td>3524.500000</td>\n      <td>Promotion Blue</td>\n      <td>10.320644</td>\n      <td>8.0</td>\n      <td>1.290081</td>\n    </tr>\n    <tr>\n      <th>109</th>\n      <td>26/02/2021</td>\n      <td>Friday</td>\n      <td>2553</td>\n      <td>26608</td>\n      <td>2418.909091</td>\n      <td>Promotion Blue</td>\n      <td>10.422248</td>\n      <td>11.0</td>\n      <td>0.947477</td>\n    </tr>\n  </tbody>\n</table>\n</div>"
          },
          "metadata": {}
        }
      ]
    },
    {
      "cell_type": "code",
      "source": "raw_data.groupby('Promo', as_index = False).agg({'Revenue per Spend':'sum'})",
      "metadata": {
        "trusted": true
      },
      "execution_count": 36,
      "outputs": [
        {
          "execution_count": 36,
          "output_type": "execute_result",
          "data": {
            "text/plain": "            Promo  Revenue per Spend\n0        No Promo              694.0\n1  Promotion Blue              504.0\n2   Promotion Red              526.0",
            "text/html": "<div>\n<style scoped>\n    .dataframe tbody tr th:only-of-type {\n        vertical-align: middle;\n    }\n\n    .dataframe tbody tr th {\n        vertical-align: top;\n    }\n\n    .dataframe thead th {\n        text-align: right;\n    }\n</style>\n<table border=\"1\" class=\"dataframe\">\n  <thead>\n    <tr style=\"text-align: right;\">\n      <th></th>\n      <th>Promo</th>\n      <th>Revenue per Spend</th>\n    </tr>\n  </thead>\n  <tbody>\n    <tr>\n      <th>0</th>\n      <td>No Promo</td>\n      <td>694.0</td>\n    </tr>\n    <tr>\n      <th>1</th>\n      <td>Promotion Blue</td>\n      <td>504.0</td>\n    </tr>\n    <tr>\n      <th>2</th>\n      <td>Promotion Red</td>\n      <td>526.0</td>\n    </tr>\n  </tbody>\n</table>\n</div>"
          },
          "metadata": {}
        }
      ]
    },
    {
      "cell_type": "code",
      "source": "a = raw_data.groupby('Promo', as_index = False).agg({'Revenue':'sum', 'Marketing Spend':'sum'})\na\n\na['Revenue per Spend'] = a['Revenue'] / a['Marketing Spend']\na",
      "metadata": {
        "trusted": true
      },
      "execution_count": 37,
      "outputs": [
        {
          "execution_count": 37,
          "output_type": "execute_result",
          "data": {
            "text/plain": "            Promo  Revenue  Marketing Spend  Revenue per Spend\n0        No Promo   809947     87073.155555           9.301914\n1  Promotion Blue   904726     98805.496969           9.156636\n2   Promotion Red   649842     68258.242173           9.520345",
            "text/html": "<div>\n<style scoped>\n    .dataframe tbody tr th:only-of-type {\n        vertical-align: middle;\n    }\n\n    .dataframe tbody tr th {\n        vertical-align: top;\n    }\n\n    .dataframe thead th {\n        text-align: right;\n    }\n</style>\n<table border=\"1\" class=\"dataframe\">\n  <thead>\n    <tr style=\"text-align: right;\">\n      <th></th>\n      <th>Promo</th>\n      <th>Revenue</th>\n      <th>Marketing Spend</th>\n      <th>Revenue per Spend</th>\n    </tr>\n  </thead>\n  <tbody>\n    <tr>\n      <th>0</th>\n      <td>No Promo</td>\n      <td>809947</td>\n      <td>87073.155555</td>\n      <td>9.301914</td>\n    </tr>\n    <tr>\n      <th>1</th>\n      <td>Promotion Blue</td>\n      <td>904726</td>\n      <td>98805.496969</td>\n      <td>9.156636</td>\n    </tr>\n    <tr>\n      <th>2</th>\n      <td>Promotion Red</td>\n      <td>649842</td>\n      <td>68258.242173</td>\n      <td>9.520345</td>\n    </tr>\n  </tbody>\n</table>\n</div>"
          },
          "metadata": {}
        }
      ]
    },
    {
      "cell_type": "markdown",
      "source": "More Details here: https://pandas.pydata.org/pandas-docs/stable/getting_started/dsintro.html",
      "metadata": {}
    },
    {
      "cell_type": "markdown",
      "source": "# <font color=\"purple\"><h3 align=\"center\">Subscribe_Shubhendra Vyas</h3></font>",
      "metadata": {}
    },
    {
      "cell_type": "markdown",
      "source": "# <font color=\"purple\"><h3 align=\"center\">Jupyter Notebook Markdown : Images, Videos, Links</h3></font>",
      "metadata": {}
    },
    {
      "cell_type": "markdown",
      "source": "https://www.youtube.com/watch?v=6ATDaLTQm6A&ab_channel=ShubhendraVyas",
      "metadata": {}
    },
    {
      "cell_type": "markdown",
      "source": "# What is markdown",
      "metadata": {}
    },
    {
      "cell_type": "markdown",
      "source": "<li>Markdown is a lightweight and popular Markup language</li>\n<li>Used by data scientist and data analyst</li>\n<li>Markup language is similar to Hypertext Markup Language(HTML) made of Markup tags</li>",
      "metadata": {}
    },
    {
      "cell_type": "markdown",
      "source": "# We are going to cover following :",
      "metadata": {}
    },
    {
      "cell_type": "markdown",
      "source": "1.  <a href=\"#1.-Headings\">Headings</a>\n\n2.  <a href=\"#2.-Blockquotes\">Blockquotes</a>\n\n3.  <a href=\"#3.-Mathematical Symbol\">Mathematical Symbol</a>\n\n4.  <a href=\"#4.-Line Break\">Line Break</a>\n\n5.  <a href=\"#5.-Bold and Italic Text\">Bold and Italic Text</a>\n\n6.  <a href=\"#6.-Horizontal Lines\">Horizontal Lines</a>\n\n7.  <a href=\"#7.-Ordered List\">Ordered List</a>\n\n8.  <a href=\"#8.-Unordered List\">Unordered List</a>\n\n9.  <a href=\"#9.-Internal and External Link\">Internal and External Link</a>\n\n10. <a href=\"#10.-Image\">Image</a>\n\n11. <a href=\"#11.-Video\">Video</a>",
      "metadata": {}
    },
    {
      "cell_type": "markdown",
      "source": "## 1. Headings",
      "metadata": {}
    },
    {
      "cell_type": "markdown",
      "source": "# Markdown Intro , Title\n## Markdown Intro, Major Headings\n### Markdown Intro, Subheadings\n#### Markdown Intro\n##### Markdown Intro\n###### Markdown Intro\n\n<h1>Tagged Heading, Title h1</h1>\n<h2>Tagged Heading, Major Headings h2</h2>\n<h3>Tagged Heading, Subheadings h3</h3>\n<h4>Tagged Heading h4</h4>\n<h5>Tagged Heading, h5</h5>\n<h6>Tagged Heading, h6</h6>",
      "metadata": {}
    },
    {
      "cell_type": "markdown",
      "source": "[<a href=\"#What is Markdown\">Back to top</a>]",
      "metadata": {}
    },
    {
      "cell_type": "markdown",
      "source": "## 2. Blockquotes",
      "metadata": {}
    },
    {
      "cell_type": "markdown",
      "source": "Introduction to Jupyter Notebook\n>Jupyter Notebook is famous for doing data analysis",
      "metadata": {}
    },
    {
      "cell_type": "markdown",
      "source": "[<a href=\"#What-is-Markdown\">Back to top</a>]",
      "metadata": {}
    },
    {
      "cell_type": "markdown",
      "source": "## 3. Mathematical Symbol",
      "metadata": {}
    },
    {
      "cell_type": "code",
      "source": "# The mathematical symbol is Markdown is included in '$/mathematical expression goes here $' enclosed in a dollar symbol \n# Explore more on following link:\n# https://personal.math.ubc.ca/~pwalls/math-python/jupyter/latex/",
      "metadata": {},
      "execution_count": null,
      "outputs": []
    },
    {
      "cell_type": "markdown",
      "source": "$x_n$",
      "metadata": {}
    },
    {
      "cell_type": "markdown",
      "source": "[<a href=\"#What-is-Markdown\">Back to top</a>]",
      "metadata": {}
    },
    {
      "cell_type": "markdown",
      "source": "## 4. Line Break",
      "metadata": {}
    },
    {
      "cell_type": "markdown",
      "source": "The line breaks after using <br> br tags and it is awesome.",
      "metadata": {}
    },
    {
      "cell_type": "markdown",
      "source": "[<a href=\"#What-is-Markdown\">Back to top</a>]",
      "metadata": {}
    },
    {
      "cell_type": "markdown",
      "source": "## 5. Bold and ltalic Text",
      "metadata": {}
    },
    {
      "cell_type": "markdown",
      "source": "**Jupyter Bold Text**\n\n__Jupyter Bold Text__\n\n*Pyhton Italic Text*\n\n_Pyhton Italic Text_",
      "metadata": {}
    },
    {
      "cell_type": "markdown",
      "source": "[<a href=\"#What-is-Markdown\">Back to top</a>]",
      "metadata": {}
    },
    {
      "cell_type": "markdown",
      "source": "## 6. Horizontal Lines",
      "metadata": {}
    },
    {
      "cell_type": "markdown",
      "source": "---\nHorizontal Line Syntax in Jupyter Notebook\n---",
      "metadata": {}
    },
    {
      "cell_type": "markdown",
      "source": "[<a href=\"#What-is-Markdown\">Back to top</a>]",
      "metadata": {}
    },
    {
      "cell_type": "markdown",
      "source": "## 7. Ordered List",
      "metadata": {}
    },
    {
      "cell_type": "markdown",
      "source": "1. Python\n2. Java\n3. Julia\n\n<ol>\n<li>Python</li>\n<li>Java</li>\n<li>Julia</li>",
      "metadata": {}
    },
    {
      "cell_type": "markdown",
      "source": "[<a href=\"#What-is-Markdown\">Back to top</a>]",
      "metadata": {}
    },
    {
      "cell_type": "markdown",
      "source": "## 8. Unordered List",
      "metadata": {}
    },
    {
      "cell_type": "markdown",
      "source": "- Java\n- Pyhton\n- HTML\n\n<ul>\n<li>Java</li>\n<li>Python</li>\n<li>HTML</li>\n</ul>",
      "metadata": {}
    },
    {
      "cell_type": "markdown",
      "source": "[<a href=\"#What-is-Markdown\">Back to top</a>]",
      "metadata": {}
    },
    {
      "cell_type": "markdown",
      "source": "## 9. Internal and External Link",
      "metadata": {}
    },
    {
      "cell_type": "code",
      "source": "# <a href=\"#9. -Internal-and-External-Link\">Internal and External Link</a>\n### 9. Internal and External Link\n\n# <a> href=\"https://twitter.com/home\" >Visit Twitter</a>",
      "metadata": {},
      "execution_count": null,
      "outputs": []
    },
    {
      "cell_type": "markdown",
      "source": "<a href=\"https://twitter.com/home\" >Visit Twitter</a>",
      "metadata": {}
    },
    {
      "cell_type": "markdown",
      "source": "[<a href=\"#What-is-Markdown\">Back to top</a>]",
      "metadata": {}
    },
    {
      "cell_type": "markdown",
      "source": "# 10. Image",
      "metadata": {}
    },
    {
      "cell_type": "markdown",
      "source": "![python1.jpg](attachment:python1.jpg)",
      "metadata": {}
    },
    {
      "cell_type": "markdown",
      "source": "<img src=\"python1.jpg\" width=\"300\" height=\"168\">",
      "metadata": {}
    },
    {
      "cell_type": "markdown",
      "source": "[<a href=\"#What-is-Markdown\">Back to top</a>]",
      "metadata": {}
    },
    {
      "cell_type": "markdown",
      "source": "# 11.Video",
      "metadata": {}
    },
    {
      "cell_type": "markdown",
      "source": "<video controls src=\"Python_ides.mp4\" width=\"500\" height=\"340\" />",
      "metadata": {}
    },
    {
      "cell_type": "markdown",
      "source": "[<a href=\"#What-is-Markdown\">Back to top</a>]",
      "metadata": {}
    },
    {
      "cell_type": "markdown",
      "source": "# Thank You",
      "metadata": {}
    },
    {
      "cell_type": "markdown",
      "source": "# Happy Learning",
      "metadata": {}
    },
    {
      "cell_type": "markdown",
      "source": "# Stay Safe",
      "metadata": {}
    },
    {
      "cell_type": "markdown",
      "source": "[<a href=\"#What-is-Markdown\">Back to top</a>]",
      "metadata": {}
    },
    {
      "cell_type": "markdown",
      "source": "# <font color=\"purple\"><h3 align=\"center\">Subscribe_Edlitera</h3></font>",
      "metadata": {}
    },
    {
      "cell_type": "markdown",
      "source": "## How to Use Markdown in Jupyter Notebook",
      "metadata": {}
    },
    {
      "cell_type": "markdown",
      "source": "# Bold Text",
      "metadata": {}
    },
    {
      "cell_type": "markdown",
      "source": "**this is bold text**",
      "metadata": {}
    },
    {
      "cell_type": "markdown",
      "source": "# Italic Text",
      "metadata": {}
    },
    {
      "cell_type": "markdown",
      "source": "_this is italic text_",
      "metadata": {}
    },
    {
      "cell_type": "markdown",
      "source": "# Bold and Italic Text",
      "metadata": {}
    },
    {
      "cell_type": "markdown",
      "source": "**_this is both bold and italic_**",
      "metadata": {}
    },
    {
      "cell_type": "markdown",
      "source": "# Soft Breaks",
      "metadata": {}
    },
    {
      "cell_type": "markdown",
      "source": "Two households, both a like in dignity,\nIn fair Verona, where we lay our scene, \nFrom ancient grudge break to new mutiny,\nWhere civil blood makes civil hands unclean.",
      "metadata": {}
    },
    {
      "cell_type": "markdown",
      "source": "# Hard Breaks",
      "metadata": {}
    },
    {
      "cell_type": "markdown",
      "source": "In the centre of the room, clamped to an upright easel, stood the full-length portrait of a young man of extraordinary personal beauty, and in front of it, some little distance away, was sitting the artist himself, Basil Hallward, whose sudden disappearance some years\n\nIn the centre of the room, clamped to an upright easel, stood the full-length portrait of a young man of extraordinary personal beauty, and in front of it, some little distance away, was sitting the artist himself, Basil Hallward, whose sudden disappearance some years\n",
      "metadata": {}
    },
    {
      "cell_type": "markdown",
      "source": "# Links",
      "metadata": {}
    },
    {
      "cell_type": "markdown",
      "source": "[this is a link to Edliteral](https://www.edlitera.com/)",
      "metadata": {}
    },
    {
      "cell_type": "markdown",
      "source": "# Images",
      "metadata": {}
    },
    {
      "cell_type": "markdown",
      "source": "![image of a cat sitting on a chair](https://assets3.thrillist.com/v1/image/2560276/1584x912/scale;webp=auto;jpeg_quality=60;progressive.jpg)",
      "metadata": {}
    },
    {
      "cell_type": "markdown",
      "source": "# Block Quotes",
      "metadata": {}
    },
    {
      "cell_type": "markdown",
      "source": "> Use the word at the end of each gap to form a new word with which to fill the gap. While doing this exercise, look for clues which tell you what kind of word is missing (adjective, noun, verb, adverb). Make sure to take into consideration forms using various prefixes and suffixes, as well as negative forms. Once you have decided on the correct form of the word, click on the arrow in the gap to check your answer.**K Girish Nag**",
      "metadata": {}
    },
    {
      "cell_type": "markdown",
      "source": "# Ordered Lists",
      "metadata": {}
    },
    {
      "cell_type": "markdown",
      "source": "1. item one\n2. item two\n3. item three",
      "metadata": {}
    },
    {
      "cell_type": "markdown",
      "source": "# UnOrdered Lists",
      "metadata": {}
    },
    {
      "cell_type": "markdown",
      "source": "* item one\n* item two\n* item three",
      "metadata": {}
    },
    {
      "cell_type": "markdown",
      "source": "# Nested Lists",
      "metadata": {}
    },
    {
      "cell_type": "markdown",
      "source": "* item one\n   1. subitem one\n   1. subitem two\n        * level three\n            * level four\n* item two\n    * level two\n    * another level two\n* item three",
      "metadata": {}
    },
    {
      "cell_type": "markdown",
      "source": "# <font color=\"purple\"><h3 align=\"center\">Subscribe_Roshan</h3></font>\n# Markdown & LaTeX - Jupyter Tutorial",
      "metadata": {}
    },
    {
      "cell_type": "markdown",
      "source": "# Tutorial Brief",
      "metadata": {}
    },
    {
      "cell_type": "markdown",
      "source": "This covers the basics of using markdown cells. You can think of markdown cells as documention for your code with extended features.\n####Finding Help:\n\n- http://ipython.org/ipython-doc/2/interactive/tutorial.html\n- http://nbviewer.ipython.org/",
      "metadata": {}
    },
    {
      "cell_type": "markdown",
      "source": "#Markdown Cells\n\nThis cell can contain markdown language and render it.\n\nA good reference for markdown is in this link:\nhttps://github.com/adam-p/markdown-here/wiki/Markdown-Cheatsheet",
      "metadata": {}
    },
    {
      "cell_type": "markdown",
      "source": "###Most common markdown codes:\n\n#Head 1\n##Head 2\n###Head 3\n####Head 4\n\nAlt Heading 1\n============\n\nAlt Heading 2\n------------",
      "metadata": {}
    },
    {
      "cell_type": "markdown",
      "source": "```markdown\n#Head 1\n##Head 2\n###Head 3\n####Head 4\n\nAlt Heading 1\n============\n\nAlt Heading 2\n------------\n```",
      "metadata": {}
    },
    {
      "cell_type": "markdown",
      "source": "###Font Styles:\n - *Italic*\n - _Italic_\n - **Bold**\n - __Bold__\n - ~~Throught~~",
      "metadata": {}
    },
    {
      "cell_type": "markdown",
      "source": "```markdown\n- *Italic*\n- _Italic_\n- **Bold**\n- __Bold__\n- ~~Throught~~\n```",
      "metadata": {}
    },
    {
      "cell_type": "markdown",
      "source": "####Lists:\n\n- Item 1\n- Item 2\n\n####Numbered List:\n\n1. Item 1\n2. Item 2\n 1. Sub Item 1\n 2. Sub Item 2\n3. Item 3",
      "metadata": {}
    },
    {
      "cell_type": "markdown",
      "source": "```markdown\n- Item 1\n- Item 2\n\n1. Item 1\n2. Item 2\n 1. Sub Item 1\n 2. Sub Item 2\n3. Item 3\n```",
      "metadata": {}
    },
    {
      "cell_type": "markdown",
      "source": "####Links:\n\nhttps://www.google.com\n\n[Google](https://www.google.com)\n\n[Google with tooltip](https://www.google.com \"Google's Homepage\")",
      "metadata": {}
    },
    {
      "cell_type": "markdown",
      "source": "```markdown\nhttps://www.google.com\n\n[Google](https://www.google.com)\n\n[Google with tooltip](https://www.google.com \"Google's Homepage\")\n```",
      "metadata": {}
    },
    {
      "cell_type": "markdown",
      "source": "####Images:\n\n![Alt Text](http://www.google.com/logos/2012/turing-doodle-static.jpg \"Alan Turing's 100th Birthday\")",
      "metadata": {}
    },
    {
      "cell_type": "markdown",
      "source": "```markdown\n![Alt Text](http://www.google.com/logos/2012/turing-doodle-static.jpg \"Alan Turing's 100th Birthday\")\n```",
      "metadata": {}
    },
    {
      "cell_type": "markdown",
      "source": "####Code:\n\n```python\ns = \"Python syntax highlighting\"\nprint s\n```\n\n```javascript\nvar s = \"JavaScript syntax highlighting\";\nalert(s);\n```",
      "metadata": {}
    },
    {
      "cell_type": "markdown",
      "source": "<pre>\n```python\ns = \"Python syntax highlighting\"\nprint s\n```\n\n```javascript\nvar s = \"JavaScript syntax highlighting\";\nalert(s);\n```\n</pre>",
      "metadata": {}
    },
    {
      "cell_type": "markdown",
      "source": "####Tables:\n\n| Website   | URL           | Rank |\n| ---------:|:-------------:| ----:|\n| Google    | google.com    | 1    |\n| Facebook  | facebook.com  | 2    |\n| Youtube   | youtube.com   | 3    |",
      "metadata": {}
    },
    {
      "cell_type": "markdown",
      "source": "```markdown\n| Website   | URL           | Rank |\n| ---------:|:-------------:| ----:|\n| Google    | google.com    | 1    |\n| Facebook  | facebook.com  | 2    |\n| Youtube   | youtube.com   | 3    |\n```",
      "metadata": {}
    },
    {
      "cell_type": "markdown",
      "source": "####Quotes\n> ##Quote from some one else\n> *with multiple lines*",
      "metadata": {}
    },
    {
      "cell_type": "markdown",
      "source": "```markdown\n> ##Quote from some one else\n> *with multiple lines*\n```",
      "metadata": {}
    },
    {
      "cell_type": "markdown",
      "source": "####HTML\n<hr>\n<p>Almost any <strong>HTML</strong> code will render<br />Just <i>fine</i>.</p>M",
      "metadata": {}
    },
    {
      "cell_type": "markdown",
      "source": "```html\n<hr>\n<p>Almost any <strong>HTML</strong> code will render<br />Just <i>fine</i>.</p>\n```",
      "metadata": {}
    },
    {
      "cell_type": "markdown",
      "source": "####Horizontal Lines\n---\n***\n___",
      "metadata": {}
    },
    {
      "cell_type": "markdown",
      "source": "```markdown\n---\n***\n___\n```",
      "metadata": {}
    },
    {
      "cell_type": "markdown",
      "source": "###Unicode\n\nIf you can think of any symbol, it is available in unicode.\n\n- ©\n- ®\n- ™",
      "metadata": {}
    },
    {
      "cell_type": "markdown",
      "source": "```markdown\n©\n®\n™\n```",
      "metadata": {}
    },
    {
      "cell_type": "markdown",
      "source": "##Markdown cell - Latex Script:\n\nLatex is a languange to represent mathematical formula using text.\n\nFor Latex documentation please check the wiki:\n\nhttp://en.wikibooks.org/wiki/LaTeX/Mathematics",
      "metadata": {}
    },
    {
      "cell_type": "markdown",
      "source": "###Inline and Block Latex\n\nInline Formula: $x=y$\n\nBlock Formula: $$x=y$$",
      "metadata": {}
    },
    {
      "cell_type": "markdown",
      "source": "```markdown\n$x=y$\n$$x=y$$\n```",
      "metadata": {}
    },
    {
      "cell_type": "markdown",
      "source": "###Greek Letters\n - Alpha: $\\alpha A$\n - Beta: $\\beta B$\n - Gamma: $\\gamma \\Gamma$\n - Pi: $\\pi \\Pi \\varpi$\n - Phi: $\\phi \\varphi \\Phi$\n - Epsilon: $\\epsilon \\varepsilon$\n - Theta: $\\theta \\Theta \\vartheta$\n - Rho: $\\rho \\varrho$\n - sigma: $\\sigma \\Sigma \\varsigma$",
      "metadata": {}
    },
    {
      "cell_type": "markdown",
      "source": "```markdown\nAlpha: $\\alpha A$\nBeta: $\\beta B$\nGamma: $\\gamma \\Gamma$\nPi: $\\pi \\Pi \\varpi$\nPhi: $\\phi \\varphi \\Phi$\nEpsilon: $\\epsilon \\varepsilon$\nTheta: $\\theta \\Theta \\vartheta$\nRho: $\\rho \\varrho$\nsigma: $\\sigma \\Sigma \\varsigma$\n```",
      "metadata": {}
    },
    {
      "cell_type": "markdown",
      "source": "###Basic operations\n\n - $y = x + 5$\n - $y = x - 5$\n - $y = 5x$\n - $y = x \\times 5$\n - $y = \\frac{x}{5}$\n - $y = x \\div 5$",
      "metadata": {}
    },
    {
      "cell_type": "markdown",
      "source": "```markdown\n$y = x + 5$\n$y = x - 5$\n$y = 5x$\n$y = x \\times 5$\n$y = \\frac{x}{5}$\n$y = x \\div 5$\n```",
      "metadata": {}
    },
    {
      "cell_type": "markdown",
      "source": "###Power and Index\n\n - $y_n = x_n - x_{n-1}$\n - $y = x^2 - 2x^{x-1}$",
      "metadata": {}
    },
    {
      "cell_type": "markdown",
      "source": "```markdown\n$y_n = x_n - x_{n-1}$\n$y = x^2 - 2x^{x-1}$\n```",
      "metadata": {}
    },
    {
      "cell_type": "markdown",
      "source": "###Fraction Type\n\n - $^1/_2$\n - $\\frac {1}{2}$",
      "metadata": {}
    },
    {
      "cell_type": "markdown",
      "source": "```markdown\n$^1/_2$\n$\\frac {1}{2}$\n```",
      "metadata": {}
    },
    {
      "cell_type": "markdown",
      "source": "###Roots\n\n - $\\sqrt{\\frac{1}{3}}$\n - $\\sqrt[3]{2x}$M",
      "metadata": {}
    },
    {
      "cell_type": "markdown",
      "source": "```markdown\n$\\sqrt{\\frac{1}{3}}$\n$\\sqrt[3]{2x}$\n```",
      "metadata": {}
    },
    {
      "cell_type": "markdown",
      "source": "###Sums and Integrals\n\n - Sum : $\\sum\\limits_{i=1}^{10} t_i$\n - Int : $\\int\\limits_a^b$\n - $\\int_0^\\infty \\sin(x^2)$",
      "metadata": {}
    },
    {
      "cell_type": "markdown",
      "source": "```markdown\n$\\sum\\limits_{i=1}^{10} t_i$\n$\\int\\limits_a^b$\n$\\int_0^\\infty \\sin(x^2)$\n```",
      "metadata": {}
    },
    {
      "cell_type": "markdown",
      "source": "# <font color=\"purple\"><h3 align=\"center\">Color</h3></font>",
      "metadata": {}
    },
    {
      "cell_type": "markdown",
      "source": "use this code: <font color=blue|red|green|pink|yellow>Text</font> Not all markdown code works within a font tag, so review your colored text carefully!\n\n<font color=blue>Front color is blue</font>\n<font color=red>Front color is red</font>\n<font color=yellow>Front color is yellow</font>",
      "metadata": {}
    },
    {
      "cell_type": "markdown",
      "source": "# <font color=\"purple\"><h3 align=\"center\">Table</h3></font>",
      "metadata": {}
    },
    {
      "cell_type": "markdown",
      "source": "Measurements of x and y positions as a function of time.Insert measurements into a table.",
      "metadata": {}
    },
    {
      "cell_type": "markdown",
      "source": "| x- Position (m) | Y-Positon (m) | Time(s) |\n| --------------- | ------------- | ------- |\n|     4.0         |      5.0      |   2.0   | \n|     4.0         |      5.0      |   2.0   |  ",
      "metadata": {}
    },
    {
      "cell_type": "markdown",
      "source": "# <font color=\"purple\"><h3 align=\"center\">How to Generate Table of Content (TOC)</h3></font>",
      "metadata": {}
    },
    {
      "cell_type": "markdown",
      "source": "## Contents\n\n1. [Introduction](#1.-Introduction)\n\n    1.1 [Background](#1.1-Background)\n    \n    1.2 [Objectives](#1.2-Objectives)    \n    \n2. [Methods](#2.-Methods)\n\n    2.1 [Models](#2.1-Models)\n    \n    2.2 [Data sampling](#2.2-Data-sampling)",
      "metadata": {}
    },
    {
      "cell_type": "code",
      "source": "",
      "metadata": {},
      "execution_count": null,
      "outputs": []
    }
  ]
}